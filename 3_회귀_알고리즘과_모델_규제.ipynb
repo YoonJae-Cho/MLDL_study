{
  "nbformat": 4,
  "nbformat_minor": 0,
  "metadata": {
    "colab": {
      "name": "3.회귀 알고리즘과 모델 규제",
      "provenance": [],
      "authorship_tag": "ABX9TyN1k1dAGU1dkeB5uSIDzOZ3",
      "include_colab_link": true
    },
    "kernelspec": {
      "name": "python3",
      "display_name": "Python 3"
    },
    "language_info": {
      "name": "python"
    }
  },
  "cells": [
    {
      "cell_type": "markdown",
      "metadata": {
        "id": "view-in-github",
        "colab_type": "text"
      },
      "source": [
        "<a href=\"https://colab.research.google.com/github/YoonJae-Cho/MLDL_study/blob/main/3_%ED%9A%8C%EA%B7%80_%EC%95%8C%EA%B3%A0%EB%A6%AC%EC%A6%98%EA%B3%BC_%EB%AA%A8%EB%8D%B8_%EA%B7%9C%EC%A0%9C.ipynb\" target=\"_parent\"><img src=\"https://colab.research.google.com/assets/colab-badge.svg\" alt=\"Open In Colab\"/></a>"
      ]
    },
    {
      "cell_type": "markdown",
      "source": [
        "#[3-1 k-최근접 이웃 회귀]#\n",
        "> 지도 학습 알고리즘은 크게 분류와 회귀로 나뉜다.\n",
        "분류 : 샘플을 몇 개의 클래스 중 하나로 분류하는 문제\n",
        "회귀 : 임의의 어떤 숫자를 예측하는 문제"
      ],
      "metadata": {
        "id": "a--ESC6LII4F"
      }
    },
    {
      "cell_type": "markdown",
      "source": [
        "###1. 데이터 준비###"
      ],
      "metadata": {
        "id": "KCqy3doFOYKS"
      }
    },
    {
      "cell_type": "code",
      "execution_count": null,
      "metadata": {
        "colab": {
          "base_uri": "https://localhost:8080/"
        },
        "id": "geZK-oh2Hl09",
        "outputId": "eb7f9e15-784a-4ba8-c2d6-de767090a28c"
      },
      "outputs": [
        {
          "output_type": "stream",
          "name": "stdout",
          "text": [
            "[ 8.4 13.7 15.  16.2 17.4 18.  18.7 19.  19.6 20.  21.  21.  21.  21.3\n",
            " 22.  22.  22.  22.  22.  22.5 22.5 22.7 23.  23.5 24.  24.  24.6 25.\n",
            " 25.6 26.5 27.3 27.5 27.5 27.5 28.  28.7 30.  32.8 34.5 35.  36.5 36.\n",
            " 37.  37.  39.  39.  39.  40.  40.  40.  40.  42.  43.  43.  43.5 44. ]\n"
          ]
        }
      ],
      "source": [
        "import numpy as np\n",
        "perch_length = np.array([8.4, 13.7, 15.0, 16.2, 17.4, 18.0, 18.7, 19.0, 19.6, 20.0, 21.0,\n",
        "       21.0, 21.0, 21.3, 22.0, 22.0, 22.0, 22.0, 22.0, 22.5, 22.5, 22.7,\n",
        "       23.0, 23.5, 24.0, 24.0, 24.6, 25.0, 25.6, 26.5, 27.3, 27.5, 27.5,\n",
        "       27.5, 28.0, 28.7, 30.0, 32.8, 34.5, 35.0, 36.5, 36.0, 37.0, 37.0,\n",
        "       39.0, 39.0, 39.0, 40.0, 40.0, 40.0, 40.0, 42.0, 43.0, 43.0, 43.5,\n",
        "       44.0])\n",
        "perch_weight = np.array([5.9, 32.0, 40.0, 51.5, 70.0, 100.0, 78.0, 80.0, 85.0, 85.0, 110.0,\n",
        "       115.0, 125.0, 130.0, 120.0, 120.0, 130.0, 135.0, 110.0, 130.0,\n",
        "       150.0, 145.0, 150.0, 170.0, 225.0, 145.0, 188.0, 180.0, 197.0,\n",
        "       218.0, 300.0, 260.0, 265.0, 250.0, 250.0, 300.0, 320.0, 514.0,\n",
        "       556.0, 840.0, 685.0, 700.0, 700.0, 690.0, 900.0, 650.0, 820.0,\n",
        "       850.0, 900.0, 1015.0, 820.0, 1100.0, 1000.0, 1100.0, 1000.0,\n",
        "       1000.0])"
      ]
    },
    {
      "cell_type": "code",
      "source": [
        "import matplotlib.pyplot as plt\n",
        "plt.scatter(perch_length, perch_weight)\n",
        "plt.xlabel('length')\n",
        "plt.ylabel('weight')\n",
        "plt.show()"
      ],
      "metadata": {
        "colab": {
          "base_uri": "https://localhost:8080/",
          "height": 279
        },
        "id": "Xb_SwmJ2Ow-O",
        "outputId": "e3a89bf5-122a-4186-d141-b2ccd1334ea9"
      },
      "execution_count": null,
      "outputs": [
        {
          "output_type": "display_data",
          "data": {
            "image/png": "[encoded data removed]",
            "text/plain": [
              "<Figure size 432x288 with 1 Axes>"
            ]
          },
          "metadata": {
            "needs_background": "light"
          }
        }
      ]
    },
    {
      "cell_type": "code",
      "source": [
        "from sklearn.model_selection import train_test_split\n",
        "train_input, test_input, train_target, test_target = train_test_split(perch_length, perch_weight, random_state=42)"
      ],
      "metadata": {
        "id": "fuO8wNtRPU2s"
      },
      "execution_count": null,
      "outputs": []
    },
    {
      "cell_type": "markdown",
      "source": [
        "> `reshape()` 메서드에서는 바꾸려는 배열의 크기를 지정할 수 있음"
      ],
      "metadata": {
        "id": "ErcwfwouRleb"
      }
    },
    {
      "cell_type": "code",
      "source": [
        "# 1차원 배열을 2차원 배열로 바꿔야 함\n",
        "test_array = np.array([1,2,3,4])\n",
        "print(test_array.shape)"
      ],
      "metadata": {
        "colab": {
          "base_uri": "https://localhost:8080/"
        },
        "id": "bCFIuIZzP5Rh",
        "outputId": "d48d7012-c8fd-40c3-9bb5-ceee9ec0253d"
      },
      "execution_count": null,
      "outputs": [
        {
          "output_type": "stream",
          "name": "stdout",
          "text": [
            "(4,)\n"
          ]
        }
      ]
    },
    {
      "cell_type": "code",
      "source": [
        "test_array = test_array.reshape(2,2)\n",
        "print(test_array.shape)\n",
        "print(test_array)"
      ],
      "metadata": {
        "colab": {
          "base_uri": "https://localhost:8080/"
        },
        "id": "iL1ynI3sQ91z",
        "outputId": "f4ed9607-81fd-40f1-c5f9-15d6e42e8afc"
      },
      "execution_count": null,
      "outputs": [
        {
          "output_type": "stream",
          "name": "stdout",
          "text": [
            "(2, 2)\n",
            "[[1 2]\n",
            " [3 4]]\n"
          ]
        }
      ]
    },
    {
      "cell_type": "code",
      "source": [
        "# reshape 이해&연습!\n",
        "test_array2 = np.array([1,2,3,4,5,6,7,8,9,10])\n",
        "print(test_array2.shape)\n",
        "test_array2 = test_array2.reshape(2,5)\n",
        "print(test_array2)"
      ],
      "metadata": {
        "colab": {
          "base_uri": "https://localhost:8080/"
        },
        "id": "WCOe55suR8Zs",
        "outputId": "9a223b59-0538-429c-9a61-231a91106832"
      },
      "execution_count": null,
      "outputs": [
        {
          "output_type": "stream",
          "name": "stdout",
          "text": [
            "(10,)\n",
            "[[ 1  2  3  4  5]\n",
            " [ 6  7  8  9 10]]\n"
          ]
        }
      ]
    },
    {
      "cell_type": "code",
      "source": [
        "# -1을 넣으면 배열 전체 원소 개수를 자동으로 넣어준다!!\n",
        "train_input = train_input.reshape(-1,1)\n",
        "test_input = test_input.reshape(-1,1)\n",
        "print(train_input.shape, test_input.shape)"
      ],
      "metadata": {
        "colab": {
          "base_uri": "https://localhost:8080/"
        },
        "id": "gX72CyQuRIfc",
        "outputId": "593b5cd4-5426-4434-dd32-9c4eaf4df347"
      },
      "execution_count": null,
      "outputs": [
        {
          "output_type": "stream",
          "name": "stdout",
          "text": [
            "(42, 1) (14, 1)\n"
          ]
        }
      ]
    },
    {
      "cell_type": "markdown",
      "source": [
        "###2. 결정계수(R^2)###\n",
        "> 사이킷런에서 k-최근접 이웃 회귀 알고리즘을 구현한 클래스는 **KNeighborsRegressor**\n",
        "\n",
        "> 1에 가까울수록 좋다"
      ],
      "metadata": {
        "id": "-L1IX74NT7jy"
      }
    },
    {
      "cell_type": "code",
      "source": [
        "from sklearn.neighbors import KNeighborsRegressor\n",
        "\n",
        "knr = KNeighborsRegressor()\n",
        "\n",
        "# k-최근점 이웃 회귀 모델을 훈련\n",
        "knr.fit(train_input, train_target)"
      ],
      "metadata": {
        "colab": {
          "base_uri": "https://localhost:8080/"
        },
        "id": "zgmJ-24WTwYP",
        "outputId": "240528ce-4fa7-4427-de2c-4b65e7f58753"
      },
      "execution_count": null,
      "outputs": [
        {
          "output_type": "execute_result",
          "data": {
            "text/plain": [
              "KNeighborsRegressor()"
            ]
          },
          "metadata": {},
          "execution_count": 26
        }
      ]
    },
    {
      "cell_type": "code",
      "source": [
        "print(knr.score(test_input, test_target))"
      ],
      "metadata": {
        "colab": {
          "base_uri": "https://localhost:8080/"
        },
        "id": "hX_jviSsUdN1",
        "outputId": "11b0939b-fda4-425a-f3f8-306a5f92fcb9"
      },
      "execution_count": null,
      "outputs": [
        {
          "output_type": "stream",
          "name": "stdout",
          "text": [
            "0.992809406101064\n"
          ]
        }
      ]
    },
    {
      "cell_type": "code",
      "source": [
        "from sklearn.metrics import mean_absolute_error\n",
        "\n",
        "# 테스트 세트에 대한 예측을 만듦\n",
        "test_prediction = knr.predict(test_input)\n",
        "\n",
        "# 테스트 세트에 대한 평균 절댓값 오차를 계산\n",
        "mae = mean_absolute_error(test_target, test_prediction)\n",
        "\n",
        "print(mae)"
      ],
      "metadata": {
        "colab": {
          "base_uri": "https://localhost:8080/"
        },
        "id": "wtf_SEwkU4hJ",
        "outputId": "ac3a3546-c38e-420e-da3d-7d00d0feb404"
      },
      "execution_count": null,
      "outputs": [
        {
          "output_type": "stream",
          "name": "stdout",
          "text": [
            "19.157142857142862\n"
          ]
        }
      ]
    },
    {
      "cell_type": "markdown",
      "source": [
        "지금까지는 훈련 세트를 사용해 모델을 훈련하고 테스트 세트로 모델을 평가했다. 훈련 세트를 사용해 평가해보자"
      ],
      "metadata": {
        "id": "1PBwdZ4uWeBc"
      }
    },
    {
      "cell_type": "markdown",
      "source": [
        "###2. 과대적합 vs 과소적합###"
      ],
      "metadata": {
        "id": "9gzh1YvVWkWc"
      }
    },
    {
      "cell_type": "code",
      "source": [
        "print(knr.score(train_input, train_target))"
      ],
      "metadata": {
        "colab": {
          "base_uri": "https://localhost:8080/"
        },
        "id": "GNJmOp4yWMDF",
        "outputId": "2c18cb22-490e-4966-86cf-9ac0f7717d8e"
      },
      "execution_count": null,
      "outputs": [
        {
          "output_type": "stream",
          "name": "stdout",
          "text": [
            "0.9698823289099254\n"
          ]
        }
      ]
    },
    {
      "cell_type": "markdown",
      "source": [
        "> 과대적합 : 훈련 세트에서 점수가 좋았는데 테스트 세트에서 점수가 낮은 경우\n",
        "\n",
        "> 과소적합 : 훈련 세트보다 테스트 세트의 점수가 높거나 두 점수가 모두 너무 낮은 경우"
      ],
      "metadata": {
        "id": "KpihQnh6aXPv"
      }
    },
    {
      "cell_type": "markdown",
      "source": [
        "#### 과소적합 해결방안 ) 모델을 조금 더 복잡하게 만든다####\n",
        "이웃의 개수 k를 줄인다. 이웃의 개수를 줄이면 훈련 세트에 있는 국지적 패턴에 민감해지고 이웃의 개수를 늘리면 데이터 전반에 있는 일반적인 패턴을 따를것이다.\n",
        "\n",
        "####과대적합일 경우 모델을 덜 복잡하게 만들어야한다. k 값을 늘린다.####"
      ],
      "metadata": {
        "id": "OVbDZeQ0ao_U"
      }
    },
    {
      "cell_type": "code",
      "source": [
        "# 이웃의 개수를 3으로 설정\n",
        "knr.n_neighbors = 3\n",
        "\n",
        "# 모델을 다시 훈련\n",
        "knr.fit(train_input, train_target)\n",
        "print(knr.score(train_input, train_target))"
      ],
      "metadata": {
        "colab": {
          "base_uri": "https://localhost:8080/"
        },
        "id": "1DfSxJtyW6FO",
        "outputId": "f38d3674-f0b4-454e-ccdd-10e8e39b88c6"
      },
      "execution_count": null,
      "outputs": [
        {
          "output_type": "stream",
          "name": "stdout",
          "text": [
            "0.9804899950518966\n"
          ]
        }
      ]
    },
    {
      "cell_type": "code",
      "source": [
        "print(knr.score(test_input, test_target))"
      ],
      "metadata": {
        "colab": {
          "base_uri": "https://localhost:8080/"
        },
        "id": "WF581gcTbNp5",
        "outputId": "c889d367-72ed-492d-fa4f-3874af967c0c"
      },
      "execution_count": null,
      "outputs": [
        {
          "output_type": "stream",
          "name": "stdout",
          "text": [
            "0.9746459963987609\n"
          ]
        }
      ]
    },
    {
      "cell_type": "markdown",
      "source": [
        "#[3-2 선형 회귀]#"
      ],
      "metadata": {
        "id": "_FjV2cC5cD3M"
      }
    },
    {
      "cell_type": "markdown",
      "source": [
        "###1. k-최근접 이웃의 한계###\n",
        "> 훈련 세트 범위 밖의 샘플을 예측할 수 없다."
      ],
      "metadata": {
        "id": "e2sq69y_nQlS"
      }
    },
    {
      "cell_type": "code",
      "source": [
        "import numpy as np\n",
        "perch_length = np.array([8.4, 13.7, 15.0, 16.2, 17.4, 18.0, 18.7, 19.0, 19.6, 20.0, 21.0,\n",
        "       21.0, 21.0, 21.3, 22.0, 22.0, 22.0, 22.0, 22.0, 22.5, 22.5, 22.7,\n",
        "       23.0, 23.5, 24.0, 24.0, 24.6, 25.0, 25.6, 26.5, 27.3, 27.5, 27.5,\n",
        "       27.5, 28.0, 28.7, 30.0, 32.8, 34.5, 35.0, 36.5, 36.0, 37.0, 37.0,\n",
        "       39.0, 39.0, 39.0, 40.0, 40.0, 40.0, 40.0, 42.0, 43.0, 43.0, 43.5,\n",
        "       44.0])\n",
        "perch_weight = np.array([5.9, 32.0, 40.0, 51.5, 70.0, 100.0, 78.0, 80.0, 85.0, 85.0, 110.0,\n",
        "       115.0, 125.0, 130.0, 120.0, 120.0, 130.0, 135.0, 110.0, 130.0,\n",
        "       150.0, 145.0, 150.0, 170.0, 225.0, 145.0, 188.0, 180.0, 197.0,\n",
        "       218.0, 300.0, 260.0, 265.0, 250.0, 250.0, 300.0, 320.0, 514.0,\n",
        "       556.0, 840.0, 685.0, 700.0, 700.0, 690.0, 900.0, 650.0, 820.0,\n",
        "       850.0, 900.0, 1015.0, 820.0, 1100.0, 1000.0, 1100.0, 1000.0,\n",
        "       1000.0])"
      ],
      "metadata": {
        "id": "p-XLGu6vbT15"
      },
      "execution_count": null,
      "outputs": []
    },
    {
      "cell_type": "code",
      "source": [
        "from sklearn.model_selection import train_test_split\n",
        "\n",
        "# 훈련 세트와 테스트 세트로 나눔\n",
        "train_input, test_input, train_target, test_target = train_test_split(perch_length, perch_weight, random_state = 42)\n",
        "\n",
        "# 훈련 세트와 테스트 세트를 2차원 배열로 바꿈\n",
        "train_input = train_input.reshape(-1,1)\n",
        "test_input = test_input.reshape(-1,1)"
      ],
      "metadata": {
        "id": "mtMYlNSjcQf7"
      },
      "execution_count": null,
      "outputs": []
    },
    {
      "cell_type": "code",
      "source": [
        "from sklearn.neighbors import KNeighborsRegressor\n",
        "\n",
        "knr = KNeighborsRegressor(n_neighbors=3)\n",
        "\n",
        "# k-최근접 이웃 회귀 모델을 훈련\n",
        "knr.fit(train_input, train_target)"
      ],
      "metadata": {
        "colab": {
          "base_uri": "https://localhost:8080/"
        },
        "id": "C37tV3UMfrxL",
        "outputId": "9a1fbe62-d3b3-4d55-c1f2-fefa5333a819"
      },
      "execution_count": null,
      "outputs": [
        {
          "output_type": "execute_result",
          "data": {
            "text/plain": [
              "KNeighborsRegressor(n_neighbors=3)"
            ]
          },
          "metadata": {},
          "execution_count": 40
        }
      ]
    },
    {
      "cell_type": "code",
      "source": [
        "print(knr.predict([[50]]))"
      ],
      "metadata": {
        "colab": {
          "base_uri": "https://localhost:8080/"
        },
        "id": "CmcmAOZ8f6Eo",
        "outputId": "91356352-d07b-47d5-b6ce-08518d41397c"
      },
      "execution_count": null,
      "outputs": [
        {
          "output_type": "stream",
          "name": "stdout",
          "text": [
            "[1033.33333333]\n"
          ]
        }
      ]
    },
    {
      "cell_type": "code",
      "source": [
        "import matplotlib.pyplot as plt\n",
        "\n",
        "# 50cm 농어의 이웃을 구한다\n",
        "distance, indexes = knr.kneighbors([[50]])\n",
        "\n",
        "# 훈련 세트의 산점도를 그린다\n",
        "plt.scatter(train_input, train_target)\n",
        "\n",
        "# 훈련 세트 중에서 이웃 샘플만 다시 그린다\n",
        "plt.scatter(train_input[indexes], train_target[indexes], marker='D')\n",
        "\n",
        "# 50cm 농어 데이터\n",
        "plt.scatter(50,1033, marker='^')\n",
        "plt.xlabel('length')\n",
        "plt.ylabel('weight')\n",
        "plt.show"
      ],
      "metadata": {
        "colab": {
          "base_uri": "https://localhost:8080/",
          "height": 297
        },
        "id": "5FIav3_SjM5B",
        "outputId": "6246bd2d-0a49-426c-c2db-8c63b3c2706f"
      },
      "execution_count": null,
      "outputs": [
        {
          "output_type": "execute_result",
          "data": {
            "text/plain": [
              "<function matplotlib.pyplot.show>"
            ]
          },
          "metadata": {},
          "execution_count": 42
        },
        {
          "output_type": "display_data",
          "data": {
            "image/png": "[encoded data removed]",
            "text/plain": [
              "<Figure size 432x288 with 1 Axes>"
            ]
          },
          "metadata": {
            "needs_background": "light"
          }
        }
      ]
    },
    {
      "cell_type": "code",
      "source": [
        "print(np.mean(train_target[indexes]))"
      ],
      "metadata": {
        "colab": {
          "base_uri": "https://localhost:8080/"
        },
        "id": "NHWi76Btj0C2",
        "outputId": "e943e1e6-0a5d-4a9e-c3dd-44bcfe157b62"
      },
      "execution_count": null,
      "outputs": [
        {
          "output_type": "stream",
          "name": "stdout",
          "text": [
            "1033.3333333333333\n"
          ]
        }
      ]
    },
    {
      "cell_type": "code",
      "source": [
        "print(knr.predict([[100]]))"
      ],
      "metadata": {
        "colab": {
          "base_uri": "https://localhost:8080/"
        },
        "id": "5eN2AXaSmQrf",
        "outputId": "32e86a15-a01c-401f-9b67-4fa427dbc518"
      },
      "execution_count": null,
      "outputs": [
        {
          "output_type": "stream",
          "name": "stdout",
          "text": [
            "[1033.33333333]\n"
          ]
        }
      ]
    },
    {
      "cell_type": "code",
      "source": [
        "# 100cm 농어의 이웃을 구합니다\n",
        "distance, indexes = knr.kneighbors([[100]])\n",
        "\n",
        "# 훈련 세트의 산점도를 그립니다\n",
        "plt.scatter(train_input, train_target)\n",
        "\n",
        "# 훈련 세트 중에서 이웃 샘플만 다시 그립니다\n",
        "plt.scatter(train_input[indexes], train_target[indexes], marker='D')\n",
        "\n",
        "# 100cm 농어 데이터\n",
        "plt.scatter(100,1033, marker='^')\n",
        "plt.xlabel('length')\n",
        "plt.ylabel('weight')\n",
        "plt.show()"
      ],
      "metadata": {
        "colab": {
          "base_uri": "https://localhost:8080/",
          "height": 279
        },
        "id": "D1lEl6CGmX0v",
        "outputId": "3cadb729-d419-4ed1-aaf0-fb19ea7032ba"
      },
      "execution_count": null,
      "outputs": [
        {
          "output_type": "display_data",
          "data": {
            "image/png": "[encoded data removed]",
            "text/plain": [
              "<Figure size 432x288 with 1 Axes>"
            ]
          },
          "metadata": {
            "needs_background": "light"
          }
        }
      ]
    },
    {
      "cell_type": "markdown",
      "source": [
        "###2. 선형 회귀###\n",
        "> 대표적인 회귀 알고리즘\n",
        "\n",
        "> sklearn.linear_model 패키지 아래에 LinearRegression 클래스로 구현\n",
        "\n",
        "> 가장 잘 맞는 직선의 방정식을 찾는다 = 최적의 기울기와 절편을 구한다"
      ],
      "metadata": {
        "id": "T1Kkzh6SnNiT"
      }
    },
    {
      "cell_type": "code",
      "source": [
        "from sklearn.linear_model import LinearRegression\n",
        "lr = LinearRegression()\n",
        "\n",
        "# 선형 회귀 모델을 훈련\n",
        "lr.fit(train_input, train_target)\n",
        "\n",
        "# 50cm 농어에 대해 예측\n",
        "print(lr.predict([[50]]))"
      ],
      "metadata": {
        "colab": {
          "base_uri": "https://localhost:8080/"
        },
        "id": "QOuztPx4m8iG",
        "outputId": "5e632549-3c13-4086-a496-4e904ba98613"
      },
      "execution_count": null,
      "outputs": [
        {
          "output_type": "stream",
          "name": "stdout",
          "text": [
            "[1241.83860323]\n"
          ]
        }
      ]
    },
    {
      "cell_type": "markdown",
      "source": [
        "> 모델 기반 학습(선형 회귀) vs 사례 기반 학습(k-최근접 이웃)\n",
        "\n",
        "> **모델 파라미터** : 머신러닝 알고리즘이 찾은 값 (coef_,   intercept_) 머신러닝 알고리즘의 훈련 과정은 최적의 모델 파라미터를 찾는것과 같다"
      ],
      "metadata": {
        "id": "MfnyokkNpbFY"
      }
    },
    {
      "cell_type": "code",
      "source": [
        "# LinearRegression 클래스가 찾은 a, b는 lr 객체의 coef_와 intercept_ 속성에 저장되어 있음\n",
        "print(lr.coef_, lr.intercept_)"
      ],
      "metadata": {
        "colab": {
          "base_uri": "https://localhost:8080/"
        },
        "id": "Z2Wb4spYoGR5",
        "outputId": "a17e34bd-7ec7-4cab-c248-6580895b5a40"
      },
      "execution_count": null,
      "outputs": [
        {
          "output_type": "stream",
          "name": "stdout",
          "text": [
            "[39.01714496] -709.0186449535477\n"
          ]
        }
      ]
    },
    {
      "cell_type": "code",
      "source": [
        "# 훈련 세트의 산점도를 그림\n",
        "plt.scatter(train_input, train_target)\n",
        "\n",
        "# 15에서 50까지 1차 방정식 그래프를 그림\n",
        "plt.plot([15,50],[15*lr.coef_+lr.intercept_, 50*lr.coef_+lr.intercept_])\n",
        "# 연습) plt.plot([20, 30,40], [200,400,600])\n",
        "\n",
        "# 50cm 농어 데이터\n",
        "plt.scatter(50,1241.8, marker='^')\n",
        "plt.xlabel('length')\n",
        "plt.ylabel('weight')\n",
        "plt.show()"
      ],
      "metadata": {
        "colab": {
          "base_uri": "https://localhost:8080/",
          "height": 279
        },
        "id": "XWwCSvytobu0",
        "outputId": "d55c8885-5d56-43a1-ef6b-d4f3bcb709a4"
      },
      "execution_count": null,
      "outputs": [
        {
          "output_type": "display_data",
          "data": {
            "image/png": "[encoded data removed]",
            "text/plain": [
              "<Figure size 432x288 with 1 Axes>"
            ]
          },
          "metadata": {
            "needs_background": "light"
          }
        }
      ]
    },
    {
      "cell_type": "code",
      "source": [
        "print(lr.score(train_input, train_target))\n",
        "print(lr.score(test_input, test_target))"
      ],
      "metadata": {
        "colab": {
          "base_uri": "https://localhost:8080/"
        },
        "id": "SiPSscyDqv9z",
        "outputId": "aca1b5fb-f96a-4106-ed89-f86313a1f1db"
      },
      "execution_count": null,
      "outputs": [
        {
          "output_type": "stream",
          "name": "stdout",
          "text": [
            "0.939846333997604\n",
            "0.8247503123313558\n"
          ]
        }
      ]
    },
    {
      "cell_type": "markdown",
      "source": [
        "###3. 다항 회귀###\n",
        "> 2차 방정식의 그래프를 그리려면 제곱한 항이 훈련 세트에 추가되어야 한다."
      ],
      "metadata": {
        "id": "UE-kQrFtrWWz"
      }
    },
    {
      "cell_type": "code",
      "source": [
        "train_poly = np.column_stack((train_input**2, train_input))\n",
        "test_poly = np.column_stack((test_input**2, test_input))"
      ],
      "metadata": {
        "id": "NalqoaS3rSDQ"
      },
      "execution_count": null,
      "outputs": []
    },
    {
      "cell_type": "code",
      "source": [
        "print(train_poly.shape, test_poly.shape)\n",
        "print(train_poly)"
      ],
      "metadata": {
        "colab": {
          "base_uri": "https://localhost:8080/"
        },
        "id": "iV4stOX4t0Pi",
        "outputId": "c4fa7bfe-0b83-4cb7-e262-434d72959a04"
      },
      "execution_count": null,
      "outputs": [
        {
          "output_type": "stream",
          "name": "stdout",
          "text": [
            "(42, 2) (14, 2)\n",
            "[[ 384.16   19.6 ]\n",
            " [ 484.     22.  ]\n",
            " [ 349.69   18.7 ]\n",
            " [ 302.76   17.4 ]\n",
            " [1296.     36.  ]\n",
            " [ 625.     25.  ]\n",
            " [1600.     40.  ]\n",
            " [1521.     39.  ]\n",
            " [1849.     43.  ]\n",
            " [ 484.     22.  ]\n",
            " [ 400.     20.  ]\n",
            " [ 484.     22.  ]\n",
            " [ 576.     24.  ]\n",
            " [ 756.25   27.5 ]\n",
            " [1849.     43.  ]\n",
            " [1600.     40.  ]\n",
            " [ 576.     24.  ]\n",
            " [ 441.     21.  ]\n",
            " [ 756.25   27.5 ]\n",
            " [1600.     40.  ]\n",
            " [1075.84   32.8 ]\n",
            " [ 702.25   26.5 ]\n",
            " [1332.25   36.5 ]\n",
            " [ 187.69   13.7 ]\n",
            " [ 515.29   22.7 ]\n",
            " [ 225.     15.  ]\n",
            " [1369.     37.  ]\n",
            " [1225.     35.  ]\n",
            " [ 823.69   28.7 ]\n",
            " [ 552.25   23.5 ]\n",
            " [1521.     39.  ]\n",
            " [ 441.     21.  ]\n",
            " [ 529.     23.  ]\n",
            " [ 484.     22.  ]\n",
            " [1936.     44.  ]\n",
            " [ 506.25   22.5 ]\n",
            " [ 361.     19.  ]\n",
            " [1369.     37.  ]\n",
            " [ 484.     22.  ]\n",
            " [ 655.36   25.6 ]\n",
            " [1764.     42.  ]\n",
            " [1190.25   34.5 ]]\n"
          ]
        }
      ]
    },
    {
      "cell_type": "code",
      "source": [
        "lr = LinearRegression()\n",
        "lr.fit(train_poly, train_target)\n",
        "\n",
        "print(lr.predict([[50**2, 50]]))"
      ],
      "metadata": {
        "colab": {
          "base_uri": "https://localhost:8080/"
        },
        "id": "6ixZSzart53i",
        "outputId": "3e9f06d3-41ee-48f4-9cb5-c308ece3ad12"
      },
      "execution_count": null,
      "outputs": [
        {
          "output_type": "stream",
          "name": "stdout",
          "text": [
            "[1573.98423528]\n"
          ]
        }
      ]
    },
    {
      "cell_type": "code",
      "source": [
        "print(lr.coef_, lr.intercept_)"
      ],
      "metadata": {
        "colab": {
          "base_uri": "https://localhost:8080/"
        },
        "id": "j4j09M26uLBd",
        "outputId": "02405d19-c023-4594-9fca-7d7d4cddd9ce"
      },
      "execution_count": null,
      "outputs": [
        {
          "output_type": "stream",
          "name": "stdout",
          "text": [
            "[  1.01433211 -21.55792498] 116.05021078278276\n"
          ]
        }
      ]
    },
    {
      "cell_type": "code",
      "source": [
        "# 구간별 직선을 그리기 위해 15에서 49까지 정수 배열을 만듦\n",
        "point = np.arange(15,50)\n",
        "\n",
        "# 훈련 세트의 산점모를 그림\n",
        "plt.scatter(train_poly[:,1], train_target)  #train_input 사용해도 됨\n",
        "\n",
        "# 15에서 49까지 2차 방정식 그래프를 그림\n",
        "plt.plot(point, 1.01*point**2 - 21.6*point +116.05)\n",
        "\n",
        "# 50cm 농어 데이터\n",
        "plt.scatter(50,1574, marker='^')\n",
        "plt.xlabel('length')\n",
        "plt.ylabel('weight')\n",
        "plt.show()"
      ],
      "metadata": {
        "colab": {
          "base_uri": "https://localhost:8080/",
          "height": 279
        },
        "id": "RI7Sj-hmuXQ-",
        "outputId": "a635555d-0ba8-4f83-eb9a-781019d3da54"
      },
      "execution_count": null,
      "outputs": [
        {
          "output_type": "display_data",
          "data": {
            "image/png": "[encoded data removed]",
            "text/plain": [
              "<Figure size 432x288 with 1 Axes>"
            ]
          },
          "metadata": {
            "needs_background": "light"
          }
        }
      ]
    },
    {
      "cell_type": "code",
      "source": [
        "print(lr.score(train_poly, train_target))\n",
        "print(lr.score(test_poly, test_target))  # 아직도 test 세트의 점수가 높다 -> 과소적합 되었다."
      ],
      "metadata": {
        "colab": {
          "base_uri": "https://localhost:8080/"
        },
        "id": "wvxlyBeAvVl4",
        "outputId": "5a68cb13-47ce-42c9-efdf-b84050991c06"
      },
      "execution_count": null,
      "outputs": [
        {
          "output_type": "stream",
          "name": "stdout",
          "text": [
            "0.9706807451768623\n",
            "0.9775935108325121\n"
          ]
        }
      ]
    },
    {
      "cell_type": "markdown",
      "source": [
        "#[3-3 특성 공학과 규제]#"
      ],
      "metadata": {
        "id": "Vunj93BCwX3d"
      }
    },
    {
      "cell_type": "markdown",
      "source": [
        "###1. 다중 회귀###\n",
        "> 여러 개의 특성을 사용한 선형 회귀\n",
        "\n",
        "> **특성 공학** : 기존의 특성을 사용해 새로운 특성을 뽑아내는 작업"
      ],
      "metadata": {
        "id": "Lh4-TSCYxHWk"
      }
    },
    {
      "cell_type": "markdown",
      "source": [
        "###2. 데이터 준비###\n",
        "> 판다스 : 데이터 분석 라이브러리\n",
        "\n",
        "> 데이터프레임 : 판다스의 핵심 데이터 구조"
      ],
      "metadata": {
        "id": "0bbcSC3Mz9Nw"
      }
    },
    {
      "cell_type": "code",
      "source": [
        "import pandas as pd  # pd는 관례적으로 사용하는 판다스의 별칭\n",
        "df = pd.read_csv('https://bit.ly/perch_csv_data')\n",
        "perch_full = df.to_numpy()  # 넘파이 배열로 바꿈\n",
        "print(perch_full)"
      ],
      "metadata": {
        "id": "DlUZI2OFwnW0",
        "colab": {
          "base_uri": "https://localhost:8080/"
        },
        "outputId": "766f05e0-55d7-4e81-a390-70bbd6782667"
      },
      "execution_count": null,
      "outputs": [
        {
          "output_type": "stream",
          "name": "stdout",
          "text": [
            "[[ 8.4   2.11  1.41]\n",
            " [13.7   3.53  2.  ]\n",
            " [15.    3.82  2.43]\n",
            " [16.2   4.59  2.63]\n",
            " [17.4   4.59  2.94]\n",
            " [18.    5.22  3.32]\n",
            " [18.7   5.2   3.12]\n",
            " [19.    5.64  3.05]\n",
            " [19.6   5.14  3.04]\n",
            " [20.    5.08  2.77]\n",
            " [21.    5.69  3.56]\n",
            " [21.    5.92  3.31]\n",
            " [21.    5.69  3.67]\n",
            " [21.3   6.38  3.53]\n",
            " [22.    6.11  3.41]\n",
            " [22.    5.64  3.52]\n",
            " [22.    6.11  3.52]\n",
            " [22.    5.88  3.52]\n",
            " [22.    5.52  4.  ]\n",
            " [22.5   5.86  3.62]\n",
            " [22.5   6.79  3.62]\n",
            " [22.7   5.95  3.63]\n",
            " [23.    5.22  3.63]\n",
            " [23.5   6.28  3.72]\n",
            " [24.    7.29  3.72]\n",
            " [24.    6.38  3.82]\n",
            " [24.6   6.73  4.17]\n",
            " [25.    6.44  3.68]\n",
            " [25.6   6.56  4.24]\n",
            " [26.5   7.17  4.14]\n",
            " [27.3   8.32  5.14]\n",
            " [27.5   7.17  4.34]\n",
            " [27.5   7.05  4.34]\n",
            " [27.5   7.28  4.57]\n",
            " [28.    7.82  4.2 ]\n",
            " [28.7   7.59  4.64]\n",
            " [30.    7.62  4.77]\n",
            " [32.8  10.03  6.02]\n",
            " [34.5  10.26  6.39]\n",
            " [35.   11.49  7.8 ]\n",
            " [36.5  10.88  6.86]\n",
            " [36.   10.61  6.74]\n",
            " [37.   10.84  6.26]\n",
            " [37.   10.57  6.37]\n",
            " [39.   11.14  7.49]\n",
            " [39.   11.14  6.  ]\n",
            " [39.   12.43  7.35]\n",
            " [40.   11.93  7.11]\n",
            " [40.   11.73  7.22]\n",
            " [40.   12.38  7.46]\n",
            " [40.   11.14  6.63]\n",
            " [42.   12.8   6.87]\n",
            " [43.   11.93  7.28]\n",
            " [43.   12.51  7.42]\n",
            " [43.5  12.6   8.14]\n",
            " [44.   12.49  7.6 ]]\n"
          ]
        }
      ]
    },
    {
      "cell_type": "code",
      "source": [
        "import numpy as np\n",
        "perch_weight = np.array([5.9, 32.0, 40.0, 51.5, 70.0, 100.0, 78.0, 80.0, 85.0, 85.0, 110.0,\n",
        "       115.0, 125.0, 130.0, 120.0, 120.0, 130.0, 135.0, 110.0, 130.0,\n",
        "       150.0, 145.0, 150.0, 170.0, 225.0, 145.0, 188.0, 180.0, 197.0,\n",
        "       218.0, 300.0, 260.0, 265.0, 250.0, 250.0, 300.0, 320.0, 514.0,\n",
        "       556.0, 840.0, 685.0, 700.0, 700.0, 690.0, 900.0, 650.0, 820.0,\n",
        "       850.0, 900.0, 1015.0, 820.0, 1100.0, 1000.0, 1100.0, 1000.0,\n",
        "       1000.0])"
      ],
      "metadata": {
        "id": "s1_Z-pgl0iyE"
      },
      "execution_count": null,
      "outputs": []
    },
    {
      "cell_type": "code",
      "source": [
        "from sklearn.model_selection import train_test_split\n",
        "train_input, test_input, train_target, test_target = train_test_split(perch_full, perch_weight, random_state =42)"
      ],
      "metadata": {
        "id": "Y1rieeRDR-Cc"
      },
      "execution_count": null,
      "outputs": []
    },
    {
      "cell_type": "markdown",
      "source": [
        "###3. 사이킷런의 변환기###\n",
        "> **변환기** : 특성을 만들거나 전처리하기 위한 다양한 클래스"
      ],
      "metadata": {
        "id": "V6q81VfwSQvA"
      }
    },
    {
      "cell_type": "code",
      "source": [
        "from sklearn.preprocessing import PolynomialFeatures"
      ],
      "metadata": {
        "id": "LeSbZec6SO5z"
      },
      "execution_count": null,
      "outputs": []
    },
    {
      "cell_type": "code",
      "source": [
        "poly = PolynomialFeatures()\n",
        "poly.fit([[2,3]])\n",
        "print(poly.transform([[2,3]]))"
      ],
      "metadata": {
        "colab": {
          "base_uri": "https://localhost:8080/"
        },
        "id": "Q8UNSe8ATIIR",
        "outputId": "fe8103fd-7260-4e33-e4d5-2f4f4e85995e"
      },
      "execution_count": null,
      "outputs": [
        {
          "output_type": "stream",
          "name": "stdout",
          "text": [
            "[[1. 2. 3. 4. 6. 9.]]\n"
          ]
        }
      ]
    },
    {
      "cell_type": "code",
      "source": [
        "poly = PolynomialFeatures(include_bias=False)  # 절편 없애기\n",
        "poly.fit([[2,3]])\n",
        "print(poly.transform([[2,3]]))"
      ],
      "metadata": {
        "colab": {
          "base_uri": "https://localhost:8080/"
        },
        "id": "GmW0FrO1l5c_",
        "outputId": "b45565d1-7276-40f4-e4a2-80c80ec7144e"
      },
      "execution_count": null,
      "outputs": [
        {
          "output_type": "stream",
          "name": "stdout",
          "text": [
            "[[2. 3. 4. 6. 9.]]\n"
          ]
        }
      ]
    },
    {
      "cell_type": "code",
      "source": [
        "poly = PolynomialFeatures(include_bias=False)\n",
        "poly.fit(train_input)\n",
        "train_poly = poly.transform(train_input)\n",
        "print(train_poly.shape)\n"
      ],
      "metadata": {
        "colab": {
          "base_uri": "https://localhost:8080/"
        },
        "id": "hTHkJpU6n3De",
        "outputId": "a7386c8d-8940-4719-83bb-e3a3425549f0"
      },
      "execution_count": null,
      "outputs": [
        {
          "output_type": "stream",
          "name": "stdout",
          "text": [
            "(42, 9)\n"
          ]
        }
      ]
    },
    {
      "cell_type": "code",
      "source": [
        "poly.get_feature_names()"
      ],
      "metadata": {
        "colab": {
          "base_uri": "https://localhost:8080/"
        },
        "id": "7HNxH6gVoLRI",
        "outputId": "1d9f9c44-039a-47dc-cf5e-8f0051df45ab"
      },
      "execution_count": null,
      "outputs": [
        {
          "output_type": "stream",
          "name": "stderr",
          "text": [
            "/usr/local/lib/python3.7/dist-packages/sklearn/utils/deprecation.py:87: FutureWarning: Function get_feature_names is deprecated; get_feature_names is deprecated in 1.0 and will be removed in 1.2. Please use get_feature_names_out instead.\n",
            "  warnings.warn(msg, category=FutureWarning)\n"
          ]
        },
        {
          "output_type": "execute_result",
          "data": {
            "text/plain": [
              "['x0', 'x1', 'x2', 'x0^2', 'x0 x1', 'x0 x2', 'x1^2', 'x1 x2', 'x2^2']"
            ]
          },
          "metadata": {},
          "execution_count": 14
        }
      ]
    },
    {
      "cell_type": "code",
      "source": [
        "test_poly = poly.transform(test_input)"
      ],
      "metadata": {
        "id": "rE8kxEd8pUzv"
      },
      "execution_count": null,
      "outputs": []
    },
    {
      "cell_type": "markdown",
      "source": [
        "###4. 다중 회귀 모델 훈련하기###"
      ],
      "metadata": {
        "id": "Vj7z8W3qqLkW"
      }
    },
    {
      "cell_type": "code",
      "source": [
        "from sklearn.linear_model import LinearRegression\n",
        "lr = LinearRegression()\n",
        "lr.fit(train_poly, train_target)\n",
        "print(lr.score(train_poly, train_target))"
      ],
      "metadata": {
        "colab": {
          "base_uri": "https://localhost:8080/"
        },
        "id": "u9lSviBWqF9R",
        "outputId": "0d103ba6-e751-4044-dfde-49b974f9f8c6"
      },
      "execution_count": null,
      "outputs": [
        {
          "output_type": "stream",
          "name": "stdout",
          "text": [
            "0.9903183436982124\n"
          ]
        }
      ]
    },
    {
      "cell_type": "code",
      "source": [
        "print(lr.score(test_poly, test_target))"
      ],
      "metadata": {
        "colab": {
          "base_uri": "https://localhost:8080/"
        },
        "id": "wnrz3xVEqbdy",
        "outputId": "bdb0009d-c58c-4956-eb61-dc50f7722410"
      },
      "execution_count": null,
      "outputs": [
        {
          "output_type": "stream",
          "name": "stdout",
          "text": [
            "0.9714559911594132\n"
          ]
        }
      ]
    },
    {
      "cell_type": "code",
      "source": [
        "poly = PolynomialFeatures(degree=5, include_bias=False)\n",
        "poly.fit(train_input)\n",
        "train_poly = poly.transform(train_input)\n",
        "test_poly = poly.transform(test_input)\n",
        "print(train_poly.shape)\n",
        "print(test_poly.shape)"
      ],
      "metadata": {
        "colab": {
          "base_uri": "https://localhost:8080/"
        },
        "id": "sOQegIDPqmC0",
        "outputId": "1ff603a0-2bf7-41a1-f6bd-06b52ad21e54"
      },
      "execution_count": null,
      "outputs": [
        {
          "output_type": "stream",
          "name": "stdout",
          "text": [
            "(42, 55)\n",
            "(14, 55)\n"
          ]
        }
      ]
    },
    {
      "cell_type": "code",
      "source": [
        "lr.fit(train_poly, train_target)\n",
        "print(lr.score(train_poly, train_target))"
      ],
      "metadata": {
        "colab": {
          "base_uri": "https://localhost:8080/"
        },
        "id": "fH_YXga8rG1o",
        "outputId": "99236ab2-aca8-411c-8916-47446687e364"
      },
      "execution_count": null,
      "outputs": [
        {
          "output_type": "stream",
          "name": "stdout",
          "text": [
            "0.9999999999991096\n"
          ]
        }
      ]
    },
    {
      "cell_type": "code",
      "source": [
        "print(lr.score(test_poly, test_target))  # 과대적합"
      ],
      "metadata": {
        "colab": {
          "base_uri": "https://localhost:8080/"
        },
        "id": "UW_x6WHGrN9s",
        "outputId": "78e35fbe-730c-43d1-9e5a-f8ea3e0d1ead"
      },
      "execution_count": null,
      "outputs": [
        {
          "output_type": "stream",
          "name": "stdout",
          "text": [
            "-144.40579242335605\n"
          ]
        }
      ]
    },
    {
      "cell_type": "markdown",
      "source": [
        "> 샘플 개수보다 특성이 많다면 훈련을 완벽하게 학습하게 된다.\n",
        "\n",
        "예로, 42개의 참새를 맞추기 위해 딱 한 번 새총을 쏴야 한다면 참새 떼 중앙을 겨냥하여 가능한 한 맟출 가능성을 높여야 한다. 하지만 55번이나 쏠 수 있다면 한 번에 하나씩 모든 참새를 맞출 수 있다."
      ],
      "metadata": {
        "id": "qk0SoN98sTrd"
      }
    },
    {
      "cell_type": "markdown",
      "source": [
        "###5. 규제###\n",
        "> 모델이 훈련 세트에 과대적합되지 않도록 만듦. 선형 회귀 모델의 경우 특성에 곱해지는 계수(또는 기울기)의 크기를 작게 만듦.\n",
        "\n",
        "> 규제를 적용하기 전에 정규화를 진행해야함"
      ],
      "metadata": {
        "id": "N0DCAF24sol7"
      }
    },
    {
      "cell_type": "code",
      "source": [
        "from sklearn.preprocessing import StandardScaler\n",
        "ss = StandardScaler()\n",
        "ss.fit(train_poly)\n",
        "train_scaled = ss.transform(train_poly)\n",
        "test_scaled = ss.transform(test_poly)"
      ],
      "metadata": {
        "id": "kDslihBdrjL_"
      },
      "execution_count": null,
      "outputs": []
    },
    {
      "cell_type": "markdown",
      "source": [
        "> 선형 회귀 모델에 규제를 추가한 모델을 릿지와 라쏘라고 부른다."
      ],
      "metadata": {
        "id": "srPDVBJjuKq_"
      }
    },
    {
      "cell_type": "markdown",
      "source": [
        "###6. 릿지 회귀\n",
        "> 계수를 제곱한 값을 기준으로 규제를 적용\n",
        "\n",
        "> 일반적으로 조금 더 선호"
      ],
      "metadata": {
        "id": "HUzhNT8EuStF"
      }
    },
    {
      "cell_type": "code",
      "source": [
        "from sklearn.linear_model import Ridge\n",
        "ridge = Ridge()\n",
        "ridge.fit(train_scaled, train_target)\n",
        "print(ridge.score(train_scaled, train_target))"
      ],
      "metadata": {
        "colab": {
          "base_uri": "https://localhost:8080/"
        },
        "id": "_cxb6yM0t2tO",
        "outputId": "700f863a-d4d5-4fdf-e366-3746fde22883"
      },
      "execution_count": null,
      "outputs": [
        {
          "output_type": "stream",
          "name": "stdout",
          "text": [
            "0.9896101671037343\n"
          ]
        }
      ]
    },
    {
      "cell_type": "code",
      "source": [
        "print(ridge.score(test_scaled, test_target))"
      ],
      "metadata": {
        "colab": {
          "base_uri": "https://localhost:8080/"
        },
        "id": "W4DAMcAUu374",
        "outputId": "01c8d4f5-1f47-42fd-e1e2-485f6057891b"
      },
      "execution_count": null,
      "outputs": [
        {
          "output_type": "stream",
          "name": "stdout",
          "text": [
            "0.9790693977615397\n"
          ]
        }
      ]
    },
    {
      "cell_type": "markdown",
      "source": [
        "> 릿지와 라쏘 모델을 사용할 때 규제의 양을 임의로 조절할 수 있다.\n",
        "모델 객체를 만들 때 **alpha 매개변수**로 규제의 강도를 조절한다.\n",
        "\n",
        "> alpha 값이 크면 규제 강도가 세지므로 계수 값을 더 줄이고 조금 더 과소적합되도록 유도한다. alpha 값이 작으면 계수를 줄이는 역할이 줄어들고 선형 회귀 모델과 유사해지므로 과대적합될 가능성이 크다.\n",
        "\n",
        "> **하이퍼파라미터** : 머신러닝 모델이 학습할 수 없고 사람이 알려줘야 하는 파라미터"
      ],
      "metadata": {
        "id": "iGGLhFjxvCpM"
      }
    },
    {
      "cell_type": "code",
      "source": [
        "import matplotlib.pyplot as plt\n",
        "train_score = []  # 리스트를 만듦\n",
        "test_score = []"
      ],
      "metadata": {
        "id": "0AT6gAISu_LB"
      },
      "execution_count": null,
      "outputs": []
    },
    {
      "cell_type": "code",
      "source": [
        "alpha_list = [0.001, 0.01, 0.1, 1, 10, 100]\n",
        "for alpha in alpha_list:\n",
        "  # 릿지 모델을 만듦\n",
        "  ridge = Ridge(alpha=alpha)\n",
        "  # 릿지 모델을 훈련\n",
        "  ridge.fit(train_scaled, train_target)\n",
        "  # 훈련 점수와 테스트 점수를 저장\n",
        "  train_score.append(ridge.score(train_scaled, train_target))\n",
        "  test_score.append(ridge.score(test_scaled, test_target))"
      ],
      "metadata": {
        "id": "Sfd1G69vwGc6"
      },
      "execution_count": null,
      "outputs": []
    },
    {
      "cell_type": "code",
      "source": [
        "plt.plot(np.log10(alpha_list), train_score)\n",
        "plt.plot(np.log10(alpha_list), test_score)\n",
        "plt.xlabel('alpha')\n",
        "plt.ylabel('R^2')\n",
        "plt.show()"
      ],
      "metadata": {
        "colab": {
          "base_uri": "https://localhost:8080/",
          "height": 279
        },
        "id": "AeJrWQ0RyCK6",
        "outputId": "568fd35d-99a1-4b75-e583-a5fefd305dfd"
      },
      "execution_count": null,
      "outputs": [
        {
          "output_type": "display_data",
          "data": {
            "image/png": "[encoded data removed]",
            "text/plain": [
              "<Figure size 432x288 with 1 Axes>"
            ]
          },
          "metadata": {
            "needs_background": "light"
          }
        }
      ]
    },
    {
      "cell_type": "code",
      "source": [
        "ridge = Ridge(alpha=0.1)\n",
        "ridge.fit(train_scaled, train_target)\n",
        "print(ridge.score(train_scaled, train_target))\n",
        "print(ridge.score(test_scaled, test_target))"
      ],
      "metadata": {
        "colab": {
          "base_uri": "https://localhost:8080/"
        },
        "id": "72uUAqR6y-SA",
        "outputId": "a25e3f46-07fc-427e-a5d6-1a963d493d94"
      },
      "execution_count": null,
      "outputs": [
        {
          "output_type": "stream",
          "name": "stdout",
          "text": [
            "0.9903815817570366\n",
            "0.9827976465386927\n"
          ]
        }
      ]
    },
    {
      "cell_type": "markdown",
      "source": [
        "###7. 라쏘 회귀\n",
        "> 계수의 절댓값을 기준으로 규제를 적용"
      ],
      "metadata": {
        "id": "CQK-Ez2suYPT"
      }
    },
    {
      "cell_type": "code",
      "source": [
        "from sklearn.linear_model import Lasso\n",
        "lasso = Lasso()\n",
        "lasso.fit(train_scaled, train_target)\n",
        "print(lasso.score(train_scaled, train_target))"
      ],
      "metadata": {
        "colab": {
          "base_uri": "https://localhost:8080/"
        },
        "id": "WpO2nZNGzQNN",
        "outputId": "23ed2403-0332-44bf-b35a-4c078c4c4af9"
      },
      "execution_count": null,
      "outputs": [
        {
          "output_type": "stream",
          "name": "stdout",
          "text": [
            "0.989789897208096\n"
          ]
        }
      ]
    },
    {
      "cell_type": "code",
      "source": [
        "print(lasso.score(test_scaled, test_target))"
      ],
      "metadata": {
        "colab": {
          "base_uri": "https://localhost:8080/"
        },
        "id": "opJpiExAzh8m",
        "outputId": "4f11e52b-d11b-4332-bdbf-0cc311a0f75f"
      },
      "execution_count": null,
      "outputs": [
        {
          "output_type": "stream",
          "name": "stdout",
          "text": [
            "0.9800593698421883\n"
          ]
        }
      ]
    },
    {
      "cell_type": "code",
      "source": [
        "train_score = []\n",
        "test_score = []\n",
        "alpha_list = [0.001, 0.01, 0.1, 1, 10, 100]\n",
        "for alpha in alpha_list: \n",
        "  # 라쏘 모델을 만듦\n",
        "  lasso = Lasso(alpha = alpha, max_iter = 1000)\n",
        "  # 라쏘 모델을 훈련\n",
        "  lasso.fit(train_scaled, train_target)\n",
        "  # 훈련 점수와 테스트 점수를 저장\n",
        "  train_score.append(lasso.score(train_scaled, train_target))\n",
        "  test_score.append(lasso.score(test_scaled, test_target))"
      ],
      "metadata": {
        "colab": {
          "base_uri": "https://localhost:8080/"
        },
        "id": "vZsl8bQPznqT",
        "outputId": "6877d245-505b-409c-bf22-dee090bc5ed5"
      },
      "execution_count": null,
      "outputs": [
        {
          "output_type": "stream",
          "name": "stderr",
          "text": [
            "/usr/local/lib/python3.7/dist-packages/sklearn/linear_model/_coordinate_descent.py:648: ConvergenceWarning: Objective did not converge. You might want to increase the number of iterations, check the scale of the features or consider increasing regularisation. Duality gap: 2.336e+04, tolerance: 5.183e+02\n",
            "  coef_, l1_reg, l2_reg, X, y, max_iter, tol, rng, random, positive\n",
            "/usr/local/lib/python3.7/dist-packages/sklearn/linear_model/_coordinate_descent.py:648: ConvergenceWarning: Objective did not converge. You might want to increase the number of iterations, check the scale of the features or consider increasing regularisation. Duality gap: 2.025e+04, tolerance: 5.183e+02\n",
            "  coef_, l1_reg, l2_reg, X, y, max_iter, tol, rng, random, positive\n",
            "/usr/local/lib/python3.7/dist-packages/sklearn/linear_model/_coordinate_descent.py:648: ConvergenceWarning: Objective did not converge. You might want to increase the number of iterations, check the scale of the features or consider increasing regularisation. Duality gap: 8.062e+02, tolerance: 5.183e+02\n",
            "  coef_, l1_reg, l2_reg, X, y, max_iter, tol, rng, random, positive\n"
          ]
        }
      ]
    },
    {
      "cell_type": "code",
      "source": [
        "plt.plot(np.log10(alpha_list), train_score)\n",
        "plt.plot(np.log10(alpha_list), test_score)\n",
        "plt.xlabel('alpha')\n",
        "plt.ylabel('R^2')\n",
        "plt.show()"
      ],
      "metadata": {
        "colab": {
          "base_uri": "https://localhost:8080/",
          "height": 279
        },
        "id": "azvgI2PM0Ukc",
        "outputId": "896e9ac8-c937-4ebf-ca2a-c1b1712cd0aa"
      },
      "execution_count": null,
      "outputs": [
        {
          "output_type": "display_data",
          "data": {
            "image/png": "[encoded data removed]",
            "text/plain": [
              "<Figure size 432x288 with 1 Axes>"
            ]
          },
          "metadata": {
            "needs_background": "light"
          }
        }
      ]
    },
    {
      "cell_type": "code",
      "source": [
        "lasso = Lasso(alpha = 10)\n",
        "lasso.fit(train_scaled, train_target)\n",
        "print(lasso.score(train_scaled, train_target))\n",
        "print(lasso.score(test_scaled, test_target))"
      ],
      "metadata": {
        "colab": {
          "base_uri": "https://localhost:8080/"
        },
        "id": "3N_R5sVm0waF",
        "outputId": "40c07d28-aace-43fd-fb2d-331716354970"
      },
      "execution_count": null,
      "outputs": [
        {
          "output_type": "stream",
          "name": "stdout",
          "text": [
            "0.9888067471131867\n",
            "0.9824470598706695\n"
          ]
        }
      ]
    },
    {
      "cell_type": "code",
      "source": [
        "# 계수 값이 0인 것 \n",
        "print(np.sum(lasso.coef_ ==0))"
      ],
      "metadata": {
        "colab": {
          "base_uri": "https://localhost:8080/"
        },
        "id": "yhLUrvtl1JYU",
        "outputId": "145701e3-5b26-4871-b87b-2d08179441ed"
      },
      "execution_count": null,
      "outputs": [
        {
          "output_type": "stream",
          "name": "stdout",
          "text": [
            "40\n"
          ]
        }
      ]
    }
  ]
}